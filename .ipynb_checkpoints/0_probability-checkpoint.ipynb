{
 "cells": [
  {
   "cell_type": "markdown",
   "metadata": {},
   "source": [
    "## 排列组合\n",
    "\n",
    "$n$ 个样本，抽样 $m$ 次:\n",
    "\n",
    "<font color=red>分步</font>、<font color=red>等概率</font> 事件计数 $n_{1} \\times n_{2} \\times n_{3} \\cdots \\times n_{m}$\n",
    "\n",
    "<font color=green>有序</font> <font color=Brown>重复</font> 抽样计数 $n^{m}$\n",
    "\n",
    "<font color=green>有序</font> <font color=Orange>不重复</font> (*排列*) 抽样计数 $A^{m}_{n} = \\frac {n!}{(n-m)!}$\n",
    "\n",
    "<font color=blue>无序</font> <font color=Orange>不重复</font> (*组合*) 抽样计数 $C^{m}_{n} = \\frac {n!}{(n-m)! \\cdot m!}$\n",
    "\n",
    "<font color=blue>无序</font> <font color=Brown>重复</font> 抽样计数 $= C^{m-1}_{n+m-1}$"
   ]
  },
  {
   "cell_type": "markdown",
   "metadata": {},
   "source": [
    "## 条件概率\n",
    "\n",
    "$A$、$B$是两个事件, 且$P(B) \\neq 0$, $B$条件下$A$事件发生的概率为：$P(A \\mid B)=\\frac{P(A \\cap B)}{P(B)}$\n",
    "\n",
    "$P(A \\cap B)=P(A \\mid B) \\cdot P(B)$\n",
    "\n",
    "事件$B_{1}$,$B_{2}$,...,$B_{n}$。如果$\\bigcup_{i=1}^{n}B_{i}= $<font color=red>$\\Omega$</font>, 两个不同事件<font color=red>**互斥**</font>($B_{i} \\cap B_{j}=\\Phi$, 如果$i \\neq j$), 且任意$P(B_{i})>0$。那么，对于任意事件$A$的概率为：$P(A)=\\sum_{i=1}^{n}P(A \\mid B_{i}) \\cdot P(B_{i})$\n",
    "\n",
    "<font color=red>**独立**</font>事件$P(A \\cap B)=P(A)P(B)$"
   ]
  },
  {
   "cell_type": "markdown",
   "metadata": {},
   "source": [
    "\n",
    "## <font color=red>贝叶斯法则</font>\n",
    "\n",
    "$B_{1}$,$B_{2}$,$\\cdots$,$B_{n}$为事件，$B_{i}$<font color=red>互斥</font>，$\\bigcup_{i=1}^{n}B_{i}=$<font color=red>$\\Omega$</font>， 且$P(B_{i})>0$。那么:$$P(B_{j} \\mid A)= \\frac {P(A \\mid B_{j}) \\cdot P(B_{j})}{\\sum_{i=1}^{n}P(A \\mid B_{i}) \\cdot P(B_{i})}$$"
   ]
  },
  {
   "cell_type": "markdown",
   "metadata": {},
   "source": [
    "离散随机变量 概率<font color=red>质量函数</font>(PMF, probability mass function) $P(X=x)$\n",
    "\n",
    "累积分布函数(CDF, cumulative distribution function) $F(x)=P(X \\le x), -\\infty<x<\\infty$\n",
    "\n",
    "连续随机变量 概率<font color=red>密度函数</font>(PDF，probability density function),是累积函数的微分"
   ]
  },
  {
   "cell_type": "markdown",
   "metadata": {},
   "source": [
    "## 离散分布\n",
    "\n",
    "### 伯努利分布(Bernoulli distribution)\n",
    "\n",
    "随机变量只有两个可能的取值: $1$和$0$。随机变量取值$1$的概率为$p$。相应的，随机变量取值$0$的概率为$1-p$。因此，伯努利分布可以表示成:\n",
    "$$P(X=k)=\\left\\{ \\begin{array}{ll} \n",
    "p & \\textrm{(k=1)} \\\\\n",
    "1-p & \\textrm{(k=0)} \\\\\n",
    "\\end{array} \\right.$$\n",
    "\n",
    "### 二项分布(Binomial distribution)\n",
    "\n",
    "$n$次测试，如果随机变量为$k$，意味着其中的$k$次成功，$n-k$次失败。从$n$次实验中挑选$k$个，根据计数原理，共有$C_{n}^{k}$种可能。其中的每种可能出现的概率为$p^{k} \\cdot (1−p)^{n−k}$。因此，二项分布可以表示成为:\n",
    "$$P(X=k)=C_{n}^{k} \\cdot p^{k} \\cdot (1−p)^{n−k} \\qquad \\textrm{(k=0,1,2,$\\cdots$,n)}$$\n",
    "\n",
    "(“二项分布”的命名原因是，上面的$P(X=k)$等于二项式$(p+(1−p))^{n}$二项式展开的第$k$项。)\n",
    "\n",
    "### 泊松分布(Poisson distribution)\n",
    "\n",
    "是二项分布的一种极限情况，当$p \\to 0,n \\to + \\infty$，而$n \\cdot p=\\lambda$时，二项分布趋近于泊松分布。这意味着我们进行无限多次测试，每次成功概率无穷小，但$n$和$p$的乘积是一个有限的数值。\n",
    "\n",
    "泊松分布的关键特征是，随机变量的取值与区间的长短成正比。这里的区间是广义的，它既可以表示时间，也可以表示空间。泊松分布有一个参数$\\lambda$，我们可以将泊松分布写成如下形式:\n",
    "$$P(X=k)=\\frac {\\lambda^{k}}{k!} \\cdot e^{−\\lambda} \\qquad \\textrm{(k=0,1,2,$\\cdots$)}$$\n",
    "\n",
    "泊松分布用于模拟低概率事件,$\\lambda$决定了泊松分布的“重心”所在。\n",
    "\n",
    "### 几何分布(Geometric distribution)\n",
    "\n",
    "假设我们连续进行独立测试，直到测试成功。每次测试成功的概率为$p$。那么，到我们成功时，所进行的测试总数是一个随机变量，可以取值$1$到正无穷。这样一个随机变量符合几何分布。\n",
    "\n",
    "随机变量取值为$k$时，意味前面的$k-1$次都失败了。因此，我们可以将几何分布表示成:\n",
    "$$P(X=k)=(1−p)^{k−1} \\cdot p \\qquad \\textrm{(k=1,2,$\\cdots$)}$$\n",
    "\n",
    "几何分布的概率质量函数呈递减趋势。\n",
    "\n",
    "### 负二项分布(Negative geometric distribution)\n",
    "\n",
    "几何分布实际上是负二项分布的一种特殊情况。几何分布是进行独立测试，直到出现成功，测试的总数。负二项分布同样是进行独立测试，但直到出现$r$次成功，测试的总数$k$。$r=1$时，负二项分布实际上就是几何分布。\n",
    "\n",
    "在连续的$r$次测试时，我们只需要保证最后一次测试是成功的，而之前的$k-1$次中，有$r-1$次成功。这$r-1$次成功的测试，可以任意存在于$k-1$次测试。因此，负二项分布的表达式为:\n",
    "$$P(X=k)=C_{k−1}^{r-1} \\cdot p^{r} \\cdot (1−p)^{k−r} \\qquad \\textrm{(k=1,2,$\\cdots$)}$$\n",
    "\n",
    "### 超几何分布(Hypergeometric distribution)\n",
    "一个袋子中有$n$个球，其中$r$个是黑球，$n-r$是白球，从袋中取出$m$个球，让$X$表示取出球中的黑球的个数，那么$X$是一个符合超几何分布的随机变量。\n",
    "$$P(X=k)=\\frac {C_{r}^{k} \\cdot C_{n-r}^{m-k}}{C_{n}^{m}} \\qquad \\textrm{(k=0,1,2,$\\cdots$,$min\\{m,r\\}$)}$$"
   ]
  },
  {
   "cell_type": "code",
   "execution_count": null,
   "metadata": {},
   "outputs": [],
   "source": []
  }
 ],
 "metadata": {
  "kernelspec": {
   "display_name": "Python 3",
   "language": "python",
   "name": "python3"
  },
  "language_info": {
   "codemirror_mode": {
    "name": "ipython",
    "version": 3
   },
   "file_extension": ".py",
   "mimetype": "text/x-python",
   "name": "python",
   "nbconvert_exporter": "python",
   "pygments_lexer": "ipython3",
   "version": "3.5.2"
  }
 },
 "nbformat": 4,
 "nbformat_minor": 2
}
