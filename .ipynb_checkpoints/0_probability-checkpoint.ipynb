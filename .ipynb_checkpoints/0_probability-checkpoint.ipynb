{
 "cells": [
  {
   "cell_type": "markdown",
   "metadata": {},
   "source": [
    "\\\\(n\\\\) 个样本，抽样 \\\\(m\\\\) 次:\n",
    "\n",
    "<font color=red>分步</font>、<font color=red>等概率</font> 事件计数 \\\\(n_{1} \\times n_{2} \\times n_{3} \\cdots \\times n_{m}\\\\)\n",
    "\n",
    "**有序** <font color=red>重复</font> 抽样计数 \\\\(n^{m}\\\\)\n",
    "\n",
    "有序 <font color=red>不重复</font> (*排列*) 抽样计数 \\\\(A^{m}_{n} = \\frac {n!}{(n-m)!}\\\\)\n",
    "\n",
    "**无序** <font color=red>不重复</font> (*组合*) 抽样计数 \\\\(C^{m}_{n} = \\frac {n!}{(n-m)! m!}\\\\)\n",
    "\n",
    "无序 <font color=red>重复</font> 抽样计数 \\\\(= C^{m-1}_{n+m-1}\\\\)"
   ]
  },
  {
   "cell_type": "code",
   "execution_count": null,
   "metadata": {},
   "outputs": [],
   "source": []
  }
 ],
 "metadata": {
  "kernelspec": {
   "display_name": "Python 3",
   "language": "python",
   "name": "python3"
  },
  "language_info": {
   "codemirror_mode": {
    "name": "ipython",
    "version": 3
   },
   "file_extension": ".py",
   "mimetype": "text/x-python",
   "name": "python",
   "nbconvert_exporter": "python",
   "pygments_lexer": "ipython3",
   "version": "3.5.2"
  }
 },
 "nbformat": 4,
 "nbformat_minor": 2
}
