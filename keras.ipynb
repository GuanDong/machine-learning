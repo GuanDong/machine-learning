{
 "cells": [
  {
   "cell_type": "code",
   "execution_count": 1,
   "metadata": {},
   "outputs": [
    {
     "name": "stdout",
     "output_type": "stream",
     "text": [
      "1.4.1 2.0.8-tf\n"
     ]
    }
   ],
   "source": [
    "import numpy as np\n",
    "import matplotlib.pyplot as plt\n",
    "import tensorflow as tf\n",
    "from tensorflow import keras\n",
    "\n",
    "#%matplotlib notebook\n",
    "%matplotlib inline\n",
    "np.random.seed(1337)\n",
    "\n",
    "def get_session(gpu_fraction=0.8):\n",
    "    gpu_options = tf.GPUOptions(per_process_gpu_memory_fraction=gpu_fraction, allow_growth=True)\n",
    "    return tf.Session(config=tf.ConfigProto(gpu_options=gpu_options))\n",
    "\n",
    "keras.backend.set_session(get_session())\n",
    "print(tf.__version__, keras.__version__)"
   ]
  },
  {
   "cell_type": "code",
   "execution_count": 16,
   "metadata": {},
   "outputs": [
    {
     "data": {
      "image/png": "[encoded data removed]",
      "text/plain": [
       "<matplotlib.figure.Figure at 0x7f8bc013fd30>"
      ]
     },
     "metadata": {},
     "output_type": "display_data"
    },
    {
     "name": "stdout",
     "output_type": "stream",
     "text": [
      "train loss: 3.7589, step: 0\n",
      "train loss: 0.00205394, step: 100\n",
      "train loss: 0.00205381, step: 200\n",
      "train loss: 0.00205381, step: 300\n",
      "train loss: 0.00205381, step: 400\n",
      "train loss: 0.00205381, step: 500\n",
      "train loss: 0.00205381, step: 600\n",
      "train loss: 0.00205381, step: 700\n",
      "train loss: 0.00205381, step: 800\n",
      "train loss: 0.00205381, step: 900\n",
      "train loss: 0.00205381, step: 1000\n"
     ]
    },
    {
     "data": {
      "image/png": "[encoded data removed]",
      "text/plain": [
       "<matplotlib.figure.Figure at 0x7f8bb967b908>"
      ]
     },
     "metadata": {},
     "output_type": "display_data"
    }
   ],
   "source": [
    "def add_layer(inputs, input_unit_num, output_unit_num, activation=None):\n",
    "    W = tf.Variable(tf.random_normal((input_unit_num, output_unit_num)))\n",
    "    B = tf.Variable(tf.zeros((1,output_unit_num))+0.1)\n",
    "    output = tf.matmul(inputs, W) + B\n",
    "    if activation is not None:\n",
    "        output = activation(output)\n",
    "    return output\n",
    "\n",
    "X = np.linspace(-1, 1, 200)\n",
    "np.random.shuffle(X)\n",
    "Y = 0.5*X + 2 + np.random.normal(0, 0.05, (200,))\n",
    "\n",
    "plt.scatter(X,Y)\n",
    "plt.show()\n",
    "\n",
    "X_train, Y_train = X[:160][:,np.newaxis], Y[:160][:,np.newaxis]\n",
    "X_test, Y_test = X[160:][:,np.newaxis], Y[160:][:,np.newaxis]\n",
    "\n",
    "g = tf.Graph()\n",
    "with g.as_default():\n",
    "    inputs = tf.placeholder(tf.float32, (None,1))\n",
    "    labels = tf.placeholder(tf.float32, (None,1))\n",
    "    outputs = add_layer(inputs, 1, 1)\n",
    "    loss = tf.reduce_mean(tf.reduce_sum(tf.square(labels-outputs),reduction_indices=[1]))\n",
    "    optimizer = tf.train.GradientDescentOptimizer(0.1)\n",
    "    train = optimizer.minimize(loss)\n",
    "    \n",
    "    with tf.Session() as sess:\n",
    "        sess.run(tf.global_variables_initializer())\n",
    "        for step in range(1001):\n",
    "            _,l = sess.run([train,loss], feed_dict={inputs: X_train, labels: Y_train})            \n",
    "            if step%100 == 0:\n",
    "                print(\"train loss: %s, step: %s\" % (l, step))\n",
    "        \n",
    "        Y_pred = sess.run(outputs, feed_dict={inputs: X_test})\n",
    "        plt.scatter(X_test, Y_test)\n",
    "        plt.plot(X_test, Y_pred)\n",
    "        plt.show()"
   ]
  },
  {
   "cell_type": "code",
   "execution_count": null,
   "metadata": {},
   "outputs": [],
   "source": [
    "from tensorflow.python.keras.datasets import mnist\n",
    "\n",
    "(X_train,Y_train), (X_test,Y_test) = mnist.load_data()\n",
    "\n",
    "X_train = X_train.reshape(X_train.shape[0], -1)/255\n",
    "X_test = X_test.reshape(X_test.shape[0], -1)/255\n",
    "\n",
    "print(X_train.shape, np.unique(Y_train))\n",
    "\n",
    "def add_layer(inputs, input_unit_num, output_unit_num, activation=None):\n",
    "    W = tf.Variable(tf.random_normal((input_unit_num, output_unit_num)))\n",
    "    B = tf.Variable(tf.zeros((1, output_unit_num))+0.1)\n",
    "    output = tf.matmul(inputs, W) + B\n",
    "    if activation is not None:\n",
    "        output = activation(output)\n",
    "    return output\n",
    "\n",
    "def get_one_hot(labels):\n",
    "    unq = np.unique(labels)\n",
    "    incs = np.arange(unq.shape[0])\n",
    "    one_hot = np.zeros((incs.shape[0], incs.shape[0]))\n",
    "    one_hot[np.arange(incs.shape[0]), incs] = 1\n",
    "    \n",
    "    def trans_one_hot_to_label(hots):\n",
    "        decode_lables = np.zeros((hots.shape[0],), dtype=unq.dtype)\n",
    "        for i in range(hots.shape[0]):\n",
    "            h = hots[i]\n",
    "            for j in range(unq.shape[0]):\n",
    "                if np.all(one_hot[j] == h):\n",
    "                    decode_lables[i] = unq[j]\n",
    "                    break\n",
    "        return decode_lables\n",
    "            \n",
    "    def trans_label_to_one_hot(lables):\n",
    "        ont_hot_labels = np.zeros((lables.shape[0], unq.shape[0]), dtype=one_hot.dtype)\n",
    "        for i in range(unq.shape[0]):\n",
    "            ont_hot_labels[lables == unq[i]] =  one_hot[i]\n",
    "        return ont_hot_labels\n",
    "    \n",
    "    return trans_label_to_one_hot, trans_one_hot_to_label\n",
    "\n",
    "trans_label_to_one_hot, trans_one_hot_to_label = get_one_hot(Y_train)\n",
    "print(Y_train[:1])\n",
    "print(trans_label_to_one_hot(Y_train)[:1])\n",
    "print(trans_one_hot_to_label(trans_label_to_one_hot(Y_train)[:1]))\n",
    "\n",
    "model = Sequential([\n",
    "    Dense(32, input_dim=784),\n",
    "    Activation(\"relu\"),\n",
    "    Dense(10),\n",
    "    Activation(\"softmax\")\n",
    "])\n",
    "\n",
    "with tf.Graph().as_default():\n",
    "    inputs = tf.placeholder(tf.float32, (None,784))\n",
    "    lables = tf.placeholder(tf.float32, (None,10))\n",
    "\n",
    "    output = add_layer(inputs, 784, 32, activation=tf.nn.relu)\n",
    "    output = add_layer(output, 32, 10, activation=tf.nn.softmax)\n",
    "\n",
    "    loss = tf.losses.softmax_cross_entropy(lables, output)\n",
    "    train = tf.train.RMSPropOptimizer(0.001).minimize(loss)\n",
    "    \n",
    "    with tf.Session() as sess:\n",
    "        sess.run(tf.global_variables_initializer())\n",
    "        for step in range(1001):\n",
    "            _,l = sess.run([train,loss], feed_dict={inputs: X_train, labels: Y_train})            \n",
    "            if step%100 == 0:\n",
    "                print(\"train loss: %s, step: %s\" % (l, step))\n",
    "        \n",
    "\n",
    "model.compile(loss=\"categorical_crossentropy\", optimizer=RMSprop(lr=0.001, rho=0.9), metrics=['accuracy'])\n",
    "model.fit(X_train, keras.utils.to_categorical(Y_train), epochs=2, batch_size=32)\n",
    "\n",
    "loss, accuracy = model.evaluate(X_test, keras.utils.to_categorical(Y_test))\n",
    "print(\"test loss: %s, accuracy: %s\" % (loss, accuracy))"
   ]
  },
  {
   "cell_type": "code",
   "execution_count": 31,
   "metadata": {},
   "outputs": [
    {
     "data": {
      "image/png": "[encoded data removed]",
      "text/plain": [
       "<matplotlib.figure.Figure at 0x7fbccc2e99e8>"
      ]
     },
     "metadata": {},
     "output_type": "display_data"
    },
    {
     "name": "stdout",
     "output_type": "stream",
     "text": [
      "train cost: 4.03971, step: 0\n",
      "train cost: 0.0750003, step: 100\n",
      "train cost: 0.00426467, step: 200\n",
      "train cost: 0.00274481, step: 300\n",
      "train cost: 0.00264762, step: 400\n",
      "train cost: 0.002628, step: 500\n",
      "train cost: 0.0026231, step: 600\n",
      "train cost: 0.00262185, step: 700\n",
      "train cost: 0.00262154, step: 800\n",
      "train cost: 0.00262146, step: 900\n",
      "train cost: 0.00262144, step: 1000\n",
      "40/40 [==============================] - 0s\n",
      "test cost:  0.00324829109013\n",
      "Weight:  [[ 0.4915002]]\n",
      "Bias:  [ 2.00406551]\n"
     ]
    },
    {
     "data": {
      "image/png": "[encoded data removed]",
      "text/plain": [
       "<matplotlib.figure.Figure at 0x7fbcac654898>"
      ]
     },
     "metadata": {},
     "output_type": "display_data"
    }
   ],
   "source": [
    "from tensorflow.python.keras.models import Sequential\n",
    "from tensorflow.python.keras.layers import Dense\n",
    "\n",
    "X = np.linspace(-1, 1, 200)\n",
    "np.random.shuffle(X)\n",
    "Y = 0.5*X + 2 + np.random.normal(0, 0.05, (200,))\n",
    "\n",
    "plt.scatter(X,Y)\n",
    "plt.show()\n",
    "\n",
    "X_train, Y_train = X[:160], Y[:160]\n",
    "X_test, Y_test = X[160:], Y[160:]\n",
    "\n",
    "model = Sequential()\n",
    "model.add(Dense((1), input_dim=1))\n",
    "model.compile(loss='mse', optimizer='sgd')\n",
    "\n",
    "for step in range(1001):\n",
    "    cost = model.train_on_batch(X_train, Y_train)\n",
    "    if step%100 == 0:\n",
    "        print(\"train cost: %s, step: %s\" % (cost, step))\n",
    "        \n",
    "cost = model.evaluate(X_test, Y_test, batch_size=40)\n",
    "print(\"test cost: \", cost)\n",
    "W,b = model.layers[0].get_weights()\n",
    "print(\"Weight: \",W)\n",
    "print(\"Bias: \",b)\n",
    "\n",
    "Y_pred = model.predict(X_test)\n",
    "plt.scatter(X_test, Y_test)\n",
    "plt.plot(X_test, Y_pred)\n",
    "plt.show()"
   ]
  },
  {
   "cell_type": "code",
   "execution_count": 32,
   "metadata": {},
   "outputs": [
    {
     "name": "stdout",
     "output_type": "stream",
     "text": [
      "(60000, 784) [0 1 2 3 4 5 6 7 8 9]\n",
      "[5]\n",
      "[[ 0.  0.  0.  0.  0.  1.  0.  0.  0.  0.]]\n",
      "[5]\n",
      "Epoch 1/2\n",
      "60000/60000 [==============================] - 5s - loss: 0.3567 - acc: 0.9023     \n",
      "Epoch 2/2\n",
      "60000/60000 [==============================] - 5s - loss: 0.2018 - acc: 0.9425     \n",
      " 9760/10000 [============================>.] - ETA: 0stest loss: 0.173434070394, accuracy: 0.9498\n"
     ]
    }
   ],
   "source": [
    "from tensorflow.python.keras.models import Sequential\n",
    "from tensorflow.python.keras.layers import Dense, Activation\n",
    "from tensorflow.python.keras.optimizers import RMSprop\n",
    "from tensorflow.python.keras.datasets import mnist\n",
    "\n",
    "(X_train,Y_train), (X_test,Y_test) = mnist.load_data()\n",
    "\n",
    "X_train = X_train.reshape(X_train.shape[0], -1)/255\n",
    "X_test = X_test.reshape(X_test.shape[0], -1)/255\n",
    "\n",
    "print(X_train.shape, np.unique(Y_train))\n",
    "\n",
    "def get_one_hot(labels):\n",
    "    unq = np.unique(labels)\n",
    "    incs = np.arange(unq.shape[0])\n",
    "    one_hot = np.zeros((incs.shape[0], incs.shape[0]))\n",
    "    one_hot[np.arange(incs.shape[0]), incs] = 1\n",
    "    \n",
    "    def trans_one_hot_to_label(hots):\n",
    "        decode_lables = np.zeros((hots.shape[0],), dtype=unq.dtype)\n",
    "        for i in range(hots.shape[0]):\n",
    "            h = hots[i]\n",
    "            for j in range(unq.shape[0]):\n",
    "                if np.all(one_hot[j] == h):\n",
    "                    decode_lables[i] = unq[j]\n",
    "                    break\n",
    "        return decode_lables\n",
    "            \n",
    "    def trans_label_to_one_hot(lables):\n",
    "        ont_hot_labels = np.zeros((lables.shape[0], unq.shape[0]), dtype=one_hot.dtype)\n",
    "        for i in range(unq.shape[0]):\n",
    "            ont_hot_labels[lables == unq[i]] =  one_hot[i]\n",
    "        return ont_hot_labels\n",
    "    \n",
    "    return trans_label_to_one_hot, trans_one_hot_to_label\n",
    "\n",
    "trans_label_to_one_hot, trans_one_hot_to_label = get_one_hot(Y_train)\n",
    "print(Y_train[:1])\n",
    "print(trans_label_to_one_hot(Y_train)[:1])\n",
    "print(trans_one_hot_to_label(trans_label_to_one_hot(Y_train)[:1]))\n",
    "\n",
    "model = Sequential([\n",
    "    Dense(32, input_dim=784),\n",
    "    Activation(\"relu\"),\n",
    "    Dense(10),\n",
    "    Activation(\"softmax\")\n",
    "])\n",
    "model.compile(loss=\"categorical_crossentropy\", optimizer=RMSprop(lr=0.001, rho=0.9), metrics=['accuracy'])\n",
    "model.fit(X_train, keras.utils.to_categorical(Y_train), epochs=2, batch_size=32)\n",
    "\n",
    "loss, accuracy = model.evaluate(X_test, keras.utils.to_categorical(Y_test))\n",
    "print(\"test loss: %s, accuracy: %s\" % (loss, accuracy))"
   ]
  }
 ],
 "metadata": {
  "kernelspec": {
   "display_name": "Python 3",
   "language": "python",
   "name": "python3"
  },
  "language_info": {
   "codemirror_mode": {
    "name": "ipython",
    "version": 3
   },
   "file_extension": ".py",
   "mimetype": "text/x-python",
   "name": "python",
   "nbconvert_exporter": "python",
   "pygments_lexer": "ipython3",
   "version": "3.5.2"
  }
 },
 "nbformat": 4,
 "nbformat_minor": 2
}
